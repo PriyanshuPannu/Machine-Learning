{
  "cells": [
    {
      "cell_type": "markdown",
      "metadata": {
        "id": "fad6Ibzo5LiL"
      },
      "source": [
        "### **Import Libraries** "
      ]
    },
    {
      "cell_type": "code",
      "execution_count": null,
      "metadata": {
        "id": "PJNchPxs5Efu"
      },
      "outputs": [],
      "source": [
        "import numpy as np\n",
        "from sklearn.linear_model import LinearRegression"
      ]
    },
    {
      "cell_type": "markdown",
      "metadata": {
        "id": "eCvIi9EQ5y-S"
      },
      "source": [
        "### **Let's generate some Random Data**"
      ]
    },
    {
      "cell_type": "code",
      "execution_count": null,
      "metadata": {
        "id": "8mYfbwBY4_fC"
      },
      "outputs": [],
      "source": [
        "input_feature_x = np.array([4, 12, 16, 20, 24, 36, 40]).reshape((-1, 1))\n",
        "output_y = np.array([4, 17, 10, 18, 22, 38, 33])"
      ]
    },
    {
      "cell_type": "markdown",
      "metadata": {
        "id": "cwrBEBdN6dgy"
      },
      "source": [
        "### **Create the linear regression model and fit on data**"
      ]
    },
    {
      "cell_type": "code",
      "execution_count": null,
      "metadata": {
        "id": "udfjwJ0P6QIY"
      },
      "outputs": [],
      "source": [
        "my_first_linear_model = LinearRegression()"
      ]
    },
    {
      "cell_type": "code",
      "execution_count": null,
      "metadata": {
        "colab": {
          "base_uri": "https://localhost:8080/"
        },
        "id": "ydlQaPjM6qXe",
        "outputId": "85685ac5-e6eb-46de-db8b-f278dc0b75a1"
      },
      "outputs": [
        {
          "data": {
            "text/plain": [
              "LinearRegression()"
            ]
          },
          "execution_count": 9,
          "metadata": {},
          "output_type": "execute_result"
        }
      ],
      "source": [
        "my_first_linear_model.fit(input_feature_x, output_y)"
      ]
    },
    {
      "cell_type": "markdown",
      "metadata": {
        "id": "Jfgo_8eH7sG6"
      },
      "source": [
        "### **Find the slope and intercept**"
      ]
    },
    {
      "cell_type": "code",
      "execution_count": null,
      "metadata": {
        "colab": {
          "base_uri": "https://localhost:8080/"
        },
        "id": "Yq3z-rq59rhh",
        "outputId": "daf2cc99-89e7-44fc-ff3b-c55b92ad60aa"
      },
      "outputs": [
        {
          "data": {
            "text/plain": [
              "array([0.88368056])"
            ]
          },
          "execution_count": 10,
          "metadata": {},
          "output_type": "execute_result"
        }
      ],
      "source": [
        "my_first_linear_model.coef_"
      ]
    },
    {
      "cell_type": "code",
      "execution_count": null,
      "metadata": {
        "colab": {
          "base_uri": "https://localhost:8080/"
        },
        "id": "ofNUKVjA70Sy",
        "outputId": "ce724a52-db51-45db-fdff-1a401637b390"
      },
      "outputs": [
        {
          "data": {
            "text/plain": [
              "1.097222222222225"
            ]
          },
          "execution_count": 11,
          "metadata": {},
          "output_type": "execute_result"
        }
      ],
      "source": [
        "my_first_linear_model.intercept_\n"
      ]
    },
    {
      "cell_type": "code",
      "execution_count": null,
      "metadata": {
        "id": "fS4kJ6MqG9fT"
      },
      "outputs": [],
      "source": [
        "y = 0.883*x+1.097"
      ]
    },
    {
      "cell_type": "markdown",
      "metadata": {
        "id": "5aIpRXFS9z5v"
      },
      "source": [
        "### **Get Predictions**"
      ]
    },
    {
      "cell_type": "code",
      "execution_count": null,
      "metadata": {
        "colab": {
          "base_uri": "https://localhost:8080/"
        },
        "id": "1gar_xPe9txW",
        "outputId": "fff3f4b4-35c1-4dcf-982c-ec3ff4f83084"
      },
      "outputs": [
        {
          "data": {
            "text/plain": [
              "array([12.58506944, 15.23611111])"
            ]
          },
          "execution_count": 17,
          "metadata": {},
          "output_type": "execute_result"
        }
      ],
      "source": [
        "prediction_array = np.array([13,16]).reshape(-1,1)\n",
        "my_first_linear_model.predict(prediction_array)"
      ]
    },
    {
      "cell_type": "markdown",
      "metadata": {
        "id": "4WdXyqZI_Rt6"
      },
      "source": []
    }
  ],
  "metadata": {
    "colab": {
      "collapsed_sections": [],
      "provenance": []
    },
    "kernelspec": {
      "display_name": "Python 3",
      "name": "python3"
    },
    "language_info": {
      "name": "python"
    }
  },
  "nbformat": 4,
  "nbformat_minor": 0
}
